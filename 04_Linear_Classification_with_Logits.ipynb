{
  "nbformat": 4,
  "nbformat_minor": 0,
  "metadata": {
    "colab": {
      "provenance": [],
      "authorship_tag": "ABX9TyPPhEn+zKhWQRBFT1xbfi2s",
      "include_colab_link": true
    },
    "kernelspec": {
      "name": "python3",
      "display_name": "Python 3"
    },
    "language_info": {
      "name": "python"
    }
  },
  "cells": [
    {
      "cell_type": "markdown",
      "metadata": {
        "id": "view-in-github",
        "colab_type": "text"
      },
      "source": [
        "<a href=\"https://colab.research.google.com/github/SeyedJalaleddinMousavirad/Pytorch/blob/main/04_Linear_Classification_with_Logits.ipynb\" target=\"_parent\"><img src=\"https://colab.research.google.com/assets/colab-badge.svg\" alt=\"Open In Colab\"/></a>"
      ]
    },
    {
      "cell_type": "code",
      "execution_count": 1,
      "metadata": {
        "id": "nISFLBRu-97O"
      },
      "outputs": [],
      "source": [
        "import torch\n",
        "import torch.nn as nn\n",
        "import numpy as np\n",
        "import matplotlib.pyplot as plt"
      ]
    },
    {
      "cell_type": "markdown",
      "source": [
        "In this notebook, we would like to use BCE with logits! Indeed, sigmoid is a type of exponentional operation\n",
        "\n",
        "exponential is numerically unstable since it changes dramatically with respect to the input\n",
        "\n",
        "Binary cross entropy has also a log in it\n",
        "Logit is the input into the logistic function\n",
        "\n",
        "To use logits, everything is exactly the same with the earlier source code except three things: 1) create the model and 2) optimiser and 3) making predictions"
      ],
      "metadata": {
        "id": "Jd9YXwXaHHm4"
      }
    },
    {
      "cell_type": "code",
      "source": [
        "#load data\n",
        "from sklearn.datasets import load_breast_cancer"
      ],
      "metadata": {
        "id": "85LV8aopHG3q"
      },
      "execution_count": 2,
      "outputs": []
    },
    {
      "cell_type": "code",
      "source": [
        "data = load_breast_cancer()"
      ],
      "metadata": {
        "id": "btYHC2PtHcIk"
      },
      "execution_count": 3,
      "outputs": []
    },
    {
      "cell_type": "code",
      "source": [
        "#Split data\n",
        "from sklearn.model_selection import train_test_split\n",
        "\n",
        "x_train, x_test, y_train, y_test = train_test_split(data.data,data.target,test_size=0.33)\n",
        "N, D=x_train.shape"
      ],
      "metadata": {
        "id": "CzSMXhXfHhyx"
      },
      "execution_count": 4,
      "outputs": []
    },
    {
      "cell_type": "code",
      "source": [
        "#Normalisation\n",
        "\n",
        "from sklearn.preprocessing import StandardScaler\n",
        "\n",
        "scalar = StandardScaler()\n",
        "x_train = scalar.fit_transform(x_train)\n",
        "x_test = scalar.transform(x_test)"
      ],
      "metadata": {
        "id": "o1HRWhHfHldP"
      },
      "execution_count": 5,
      "outputs": []
    },
    {
      "cell_type": "code",
      "source": [
        "#Build the model\n",
        "#we do not need any Sigmoid since it is included in the cost function\n",
        "model = nn.Linear(D,1)\n"
      ],
      "metadata": {
        "id": "K6rsL1ZyHoHi"
      },
      "execution_count": 6,
      "outputs": []
    },
    {
      "cell_type": "code",
      "source": [
        "#Loss and Optimiser\n",
        "criterion = nn.BCEWithLogitsLoss()\n",
        "optimizer = torch.optim.Adam(model.parameters())"
      ],
      "metadata": {
        "id": "xYXmCUCNH_So"
      },
      "execution_count": 8,
      "outputs": []
    },
    {
      "cell_type": "code",
      "source": [
        "#Convert data to torch data\n",
        "x_train = torch.from_numpy(x_train.astype(np.float32))\n",
        "x_test = torch.from_numpy(x_test.astype(np.float32))\n",
        "y_train = torch.from_numpy(y_train.astype(np.float32).reshape(-1,1))\n",
        "y_test = torch.from_numpy(y_test.astype(np.float32).reshape(-1,1))"
      ],
      "metadata": {
        "id": "HfwqLRhMHZg0"
      },
      "execution_count": 9,
      "outputs": []
    },
    {
      "cell_type": "code",
      "source": [
        "#Train the model\n",
        "n_epoch=1000\n",
        "\n",
        "train_losses=np.zeros(n_epoch)\n",
        "test_losses=np.zeros(n_epoch)\n",
        "\n",
        "for it in range(n_epoch):\n",
        "  optimizer.zero_grad()\n",
        "\n",
        "  #Forward pass\n",
        "  outputs = model(x_train)\n",
        "  loss = criterion (outputs, y_train)\n",
        "\n",
        "  #Backward and optimise\n",
        "  loss.backward()\n",
        "  optimizer.step()\n",
        "\n",
        "  #Get test loss\n",
        "  outputs_test = model (x_test)\n",
        "  loss_test = criterion(outputs_test,y_test)\n",
        "\n",
        "  #Save loss\n",
        "  train_losses[it] = loss.item()\n",
        "  test_losses[it] = loss_test.item()\n",
        "\n",
        "  if(it+1) % 50 ==0:\n",
        "    print(f'Epoch {it+1}/{n_epoch}, train loss= {loss.item():.4f}, test loss={loss_test.item():.4f}')"
      ],
      "metadata": {
        "colab": {
          "base_uri": "https://localhost:8080/"
        },
        "id": "JMdrMYJMIgLx",
        "outputId": "e94beb61-15cd-4308-ee42-ff4bab3e287a"
      },
      "execution_count": 10,
      "outputs": [
        {
          "output_type": "stream",
          "name": "stdout",
          "text": [
            "Epoch 50/1000, train loss= 0.4094, test loss=0.3933\n",
            "Epoch 100/1000, train loss= 0.3078, test loss=0.2923\n",
            "Epoch 150/1000, train loss= 0.2525, test loss=0.2411\n",
            "Epoch 200/1000, train loss= 0.2169, test loss=0.2093\n",
            "Epoch 250/1000, train loss= 0.1918, test loss=0.1874\n",
            "Epoch 300/1000, train loss= 0.1731, test loss=0.1713\n",
            "Epoch 350/1000, train loss= 0.1586, test loss=0.1588\n",
            "Epoch 400/1000, train loss= 0.1469, test loss=0.1489\n",
            "Epoch 450/1000, train loss= 0.1373, test loss=0.1409\n",
            "Epoch 500/1000, train loss= 0.1293, test loss=0.1343\n",
            "Epoch 550/1000, train loss= 0.1225, test loss=0.1287\n",
            "Epoch 600/1000, train loss= 0.1167, test loss=0.1240\n",
            "Epoch 650/1000, train loss= 0.1116, test loss=0.1199\n",
            "Epoch 700/1000, train loss= 0.1071, test loss=0.1164\n",
            "Epoch 750/1000, train loss= 0.1031, test loss=0.1133\n",
            "Epoch 800/1000, train loss= 0.0995, test loss=0.1105\n",
            "Epoch 850/1000, train loss= 0.0963, test loss=0.1081\n",
            "Epoch 900/1000, train loss= 0.0934, test loss=0.1059\n",
            "Epoch 950/1000, train loss= 0.0908, test loss=0.1039\n",
            "Epoch 1000/1000, train loss= 0.0884, test loss=0.1021\n"
          ]
        }
      ]
    },
    {
      "cell_type": "code",
      "source": [
        "plt.plot(train_losses, label= 'train loss')\n",
        "plt.plot(test_losses, label= 'Test loss')\n",
        "plt.legend()\n",
        "plt.show()"
      ],
      "metadata": {
        "colab": {
          "base_uri": "https://localhost:8080/",
          "height": 265
        },
        "id": "uPsXkCMoInKx",
        "outputId": "741c8927-b54a-44fb-898f-7502fc43a2e8"
      },
      "execution_count": 11,
      "outputs": [
        {
          "output_type": "display_data",
          "data": {
            "text/plain": [
              "<Figure size 432x288 with 1 Axes>"
            ],
            "image/png": "[encoded data removed]"
          },
          "metadata": {
            "needs_background": "light"
          }
        }
      ]
    },
    {
      "cell_type": "code",
      "source": [
        "#get accuracy\n",
        "with torch.no_grad():\n",
        "  p_train = model (x_train)\n",
        "  p_train = np.round(p_train.numpy()>0)\n",
        "  train_acc = np.mean (y_train.numpy() ==p_train)\n",
        "  \n",
        "  p_test=model (x_test)\n",
        "  p_test = np.round(p_test.numpy()>0)\n",
        "  test_acc = np.mean(y_test.numpy() ==p_test)\n",
        "\n",
        "  print(f\"train acc: {train_acc: .4f}, Test acc={test_acc:.4f}\")\n"
      ],
      "metadata": {
        "colab": {
          "base_uri": "https://localhost:8080/"
        },
        "id": "AFX6BpPhIquR",
        "outputId": "dcd1db68-b0ec-4a9f-eed5-f97793ac0941"
      },
      "execution_count": 13,
      "outputs": [
        {
          "output_type": "stream",
          "name": "stdout",
          "text": [
            "train acc:  0.9843, Test acc=0.9734\n"
          ]
        }
      ]
    }
  ]
}
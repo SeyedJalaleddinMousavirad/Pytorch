{
  "nbformat": 4,
  "nbformat_minor": 0,
  "metadata": {
    "colab": {
      "provenance": [],
      "authorship_tag": "ABX9TyMTyIszwHlf1Pp315DYNTPx",
      "include_colab_link": true
    },
    "kernelspec": {
      "name": "python3",
      "display_name": "Python 3"
    },
    "language_info": {
      "name": "python"
    }
  },
  "cells": [
    {
      "cell_type": "markdown",
      "metadata": {
        "id": "view-in-github",
        "colab_type": "text"
      },
      "source": [
        "<a href=\"https://colab.research.google.com/github/SeyedJalaleddinMousavirad/Pytorch/blob/main/Pytorch_Linear_Regression.ipynb\" target=\"_parent\"><img src=\"https://colab.research.google.com/assets/colab-badge.svg\" alt=\"Open In Colab\"/></a>"
      ]
    },
    {
      "cell_type": "code",
      "execution_count": 13,
      "metadata": {
        "id": "3Jaf4sGj41hq"
      },
      "outputs": [],
      "source": [
        "import torch\n",
        "import torch.nn as nn\n",
        "import numpy as np\n",
        "import matplotlib.pyplot as plt"
      ]
    },
    {
      "cell_type": "code",
      "source": [
        "#The number of data points\n",
        "N=50\n",
        "\n",
        "#Generate random data on the x-axis in (-5,5)\n",
        "X=np.random.rand(N)*10-5\n",
        "\n",
        "Y=0.5*X-1+np.random.randn(N)\n",
        "\n",
        "plt.scatter(X,Y)"
      ],
      "metadata": {
        "colab": {
          "base_uri": "https://localhost:8080/",
          "height": 282
        },
        "id": "Xg3MC8g25ODG",
        "outputId": "9e64329f-b555-4499-9db5-46cbbc9675e1"
      },
      "execution_count": 14,
      "outputs": [
        {
          "output_type": "execute_result",
          "data": {
            "text/plain": [
              "<matplotlib.collections.PathCollection at 0x7fb3e0a2b350>"
            ]
          },
          "metadata": {},
          "execution_count": 14
        },
        {
          "output_type": "display_data",
          "data": {
            "text/plain": [
              "<Figure size 432x288 with 1 Axes>"
            ],
            "image/png": "[encoded data removed]"
          },
          "metadata": {
            "needs_background": "light"
          }
        }
      ]
    },
    {
      "cell_type": "markdown",
      "source": [
        "Pytorch Step"
      ],
      "metadata": {
        "id": "ezFE_TLr-9dT"
      }
    },
    {
      "cell_type": "code",
      "source": [
        "X.size"
      ],
      "metadata": {
        "colab": {
          "base_uri": "https://localhost:8080/"
        },
        "id": "k6phAitgCPxB",
        "outputId": "fda486e7-104c-4afc-ef3b-263b690b13f6"
      },
      "execution_count": 18,
      "outputs": [
        {
          "output_type": "execute_result",
          "data": {
            "text/plain": [
              "50"
            ]
          },
          "metadata": {},
          "execution_count": 18
        }
      ]
    },
    {
      "cell_type": "code",
      "source": [
        "#Create the linear regression model\n",
        "model=nn.Linear(1,1)\n",
        "\n",
        "#Loss and Optimiser\n",
        "criterion = nn.MSELoss()\n",
        "optimizer = torch.optim.SGD(model.parameters(), lr=0.1)\n",
        "\n",
        "#Reshape\n",
        "X = X.reshape(N,1)\n",
        "Y= Y.reshape(N,1)\n",
        "\n",
        "#The dataset should be (number of samples, number of dimensions)\n",
        "\n",
        "inputs=torch.from_numpy(X.astype(np.float32))\n",
        "targets = torch.from_numpy(Y.astype(np.float32))"
      ],
      "metadata": {
        "id": "4E-gq-Nj-6J7"
      },
      "execution_count": 22,
      "outputs": []
    },
    {
      "cell_type": "code",
      "source": [
        "type(inputs)"
      ],
      "metadata": {
        "colab": {
          "base_uri": "https://localhost:8080/"
        },
        "id": "FDXgyGGzC_EX",
        "outputId": "7cd363e8-5f8a-4ac5-e5a0-7359e8a451cc"
      },
      "execution_count": 20,
      "outputs": [
        {
          "output_type": "execute_result",
          "data": {
            "text/plain": [
              "torch.Tensor"
            ]
          },
          "metadata": {},
          "execution_count": 20
        }
      ]
    },
    {
      "cell_type": "code",
      "source": [
        "type(targets)"
      ],
      "metadata": {
        "colab": {
          "base_uri": "https://localhost:8080/"
        },
        "id": "YlP-7PnpDDHk",
        "outputId": "55322491-eca9-4d6d-ec12-a24b98f9ff69"
      },
      "execution_count": 21,
      "outputs": [
        {
          "output_type": "execute_result",
          "data": {
            "text/plain": [
              "torch.Tensor"
            ]
          },
          "metadata": {},
          "execution_count": 21
        }
      ]
    },
    {
      "cell_type": "code",
      "source": [
        "#Train the model\n",
        "n_epochs=30\n",
        "losses = []\n",
        "for it in range(n_epochs):\n",
        "  #Zero the parameter gradients \n",
        "  optimizer.zero_grad()\n",
        "\n",
        "  #Forward pass\n",
        "  outputs = model (inputs)\n",
        "  loss = criterion (outputs, targets)\n",
        "\n",
        "  #Save the losses\n",
        "  losses.append(loss.item())\n",
        "  \n",
        "  #Backward pass\n",
        "  loss.backward()\n",
        "  optimizer.step()\n",
        "\n",
        "  print(f'Epoch {it+1}/{n_epochs}, Loss: {loss.item(): .4f} ')\n"
      ],
      "metadata": {
        "colab": {
          "base_uri": "https://localhost:8080/"
        },
        "id": "UQH4fssJFhfh",
        "outputId": "3368a881-9a24-4dad-d333-a462f1871a4b"
      },
      "execution_count": 23,
      "outputs": [
        {
          "output_type": "stream",
          "name": "stdout",
          "text": [
            "Epoch 1/30, Loss:  2.8081 \n",
            "Epoch 2/30, Loss:  2.1374 \n",
            "Epoch 3/30, Loss:  1.7308 \n",
            "Epoch 4/30, Loss:  1.4716 \n",
            "Epoch 5/30, Loss:  1.3041 \n",
            "Epoch 6/30, Loss:  1.1956 \n",
            "Epoch 7/30, Loss:  1.1252 \n",
            "Epoch 8/30, Loss:  1.0796 \n",
            "Epoch 9/30, Loss:  1.0500 \n",
            "Epoch 10/30, Loss:  1.0308 \n",
            "Epoch 11/30, Loss:  1.0184 \n",
            "Epoch 12/30, Loss:  1.0103 \n",
            "Epoch 13/30, Loss:  1.0051 \n",
            "Epoch 14/30, Loss:  1.0017 \n",
            "Epoch 15/30, Loss:  0.9995 \n",
            "Epoch 16/30, Loss:  0.9980 \n",
            "Epoch 17/30, Loss:  0.9971 \n",
            "Epoch 18/30, Loss:  0.9965 \n",
            "Epoch 19/30, Loss:  0.9961 \n",
            "Epoch 20/30, Loss:  0.9959 \n",
            "Epoch 21/30, Loss:  0.9957 \n",
            "Epoch 22/30, Loss:  0.9956 \n",
            "Epoch 23/30, Loss:  0.9955 \n",
            "Epoch 24/30, Loss:  0.9955 \n",
            "Epoch 25/30, Loss:  0.9954 \n",
            "Epoch 26/30, Loss:  0.9954 \n",
            "Epoch 27/30, Loss:  0.9954 \n",
            "Epoch 28/30, Loss:  0.9954 \n",
            "Epoch 29/30, Loss:  0.9954 \n",
            "Epoch 30/30, Loss:  0.9954 \n"
          ]
        }
      ]
    },
    {
      "cell_type": "code",
      "source": [
        "#Plot the losses\n",
        "plt.plot(losses)"
      ],
      "metadata": {
        "colab": {
          "base_uri": "https://localhost:8080/",
          "height": 282
        },
        "id": "erCqf7jeHjd5",
        "outputId": "c167ee7c-363a-4c47-d0ad-6163f30a1e9d"
      },
      "execution_count": 24,
      "outputs": [
        {
          "output_type": "execute_result",
          "data": {
            "text/plain": [
              "[<matplotlib.lines.Line2D at 0x7fb3df7be490>]"
            ]
          },
          "metadata": {},
          "execution_count": 24
        },
        {
          "output_type": "display_data",
          "data": {
            "text/plain": [
              "<Figure size 432x288 with 1 Axes>"
            ],
            "image/png": "[encoded data removed]"
          },
          "metadata": {
            "needs_background": "light"
          }
        }
      ]
    },
    {
      "cell_type": "code",
      "source": [
        "#plot the graph\n",
        "predicted = model (inputs).detach().numpy()\n",
        "plt.scatter (X,Y,label='Original data')\n",
        "plt.plot(X,predicted, label = 'predicted line')\n",
        "plt.legend()\n",
        "plt.show()"
      ],
      "metadata": {
        "colab": {
          "base_uri": "https://localhost:8080/",
          "height": 265
        },
        "id": "72NYlBSzHxOL",
        "outputId": "f08d4b82-f556-4fc8-8d80-efe66bf3b71e"
      },
      "execution_count": 27,
      "outputs": [
        {
          "output_type": "display_data",
          "data": {
            "text/plain": [
              "<Figure size 432x288 with 1 Axes>"
            ],
            "image/png": "[encoded data removed]"
          },
          "metadata": {
            "needs_background": "light"
          }
        }
      ]
    },
    {
      "cell_type": "code",
      "source": [],
      "metadata": {
        "id": "V751Iu2NI1Hu"
      },
      "execution_count": null,
      "outputs": []
    },
    {
      "cell_type": "code",
      "source": [
        "#In the above code, we use detach. Instead, we can use the following way\n",
        "with torch.no_grad():\n",
        "  out = model(inputs).numpy()\n",
        "out  "
      ],
      "metadata": {
        "colab": {
          "base_uri": "https://localhost:8080/"
        },
        "id": "5O7Go9CRI6Cm",
        "outputId": "3f9213b9-49ef-4210-c98d-f8fd6dd933ee"
      },
      "execution_count": 29,
      "outputs": [
        {
          "output_type": "execute_result",
          "data": {
            "text/plain": [
              "array([[-0.04476988],\n",
              "       [ 1.1687996 ],\n",
              "       [-0.67965806],\n",
              "       [-1.367753  ],\n",
              "       [-2.338006  ],\n",
              "       [-1.7421316 ],\n",
              "       [-0.36896396],\n",
              "       [-1.3484716 ],\n",
              "       [-2.6620872 ],\n",
              "       [-1.9169979 ],\n",
              "       [-2.3013895 ],\n",
              "       [-2.9047809 ],\n",
              "       [ 0.03387696],\n",
              "       [-0.75132245],\n",
              "       [-1.4544955 ],\n",
              "       [-1.4468967 ],\n",
              "       [ 0.8535659 ],\n",
              "       [ 0.68934447],\n",
              "       [-0.88353497],\n",
              "       [ 1.1100588 ],\n",
              "       [-1.3966043 ],\n",
              "       [-0.4429332 ],\n",
              "       [-0.17572838],\n",
              "       [-2.6464896 ],\n",
              "       [ 0.36225206],\n",
              "       [-0.48991603],\n",
              "       [ 0.15917677],\n",
              "       [ 0.25372893],\n",
              "       [-1.1124828 ],\n",
              "       [-2.5376005 ],\n",
              "       [-0.50812364],\n",
              "       [ 0.46729726],\n",
              "       [-2.6427937 ],\n",
              "       [-0.28221756],\n",
              "       [ 0.3332824 ],\n",
              "       [-0.17246896],\n",
              "       [ 0.8045139 ],\n",
              "       [-2.5739608 ],\n",
              "       [-0.76492274],\n",
              "       [-2.3733115 ],\n",
              "       [-2.206192  ],\n",
              "       [-2.664603  ],\n",
              "       [-0.42210162],\n",
              "       [ 0.5655766 ],\n",
              "       [ 0.48346657],\n",
              "       [-0.09819162],\n",
              "       [ 0.5570883 ],\n",
              "       [ 0.9305847 ],\n",
              "       [-1.1538346 ],\n",
              "       [ 0.28167695]], dtype=float32)"
            ]
          },
          "metadata": {},
          "execution_count": 29
        }
      ]
    },
    {
      "cell_type": "code",
      "source": [
        "#Now, we aim to take into conideration the effectiveness of the model. We know that the correct answer is : (w,b)=(0.5,-1)\n",
        "\n",
        "w=model.weight.data.numpy()\n",
        "b=model.bias.data.numpy()\n",
        "print(w,b)"
      ],
      "metadata": {
        "colab": {
          "base_uri": "https://localhost:8080/"
        },
        "id": "VnC0ClbQJbpB",
        "outputId": "906d7305-74c4-4201-ed8b-c5166538a41a"
      },
      "execution_count": 31,
      "outputs": [
        {
          "output_type": "stream",
          "name": "stdout",
          "text": [
            "[[0.4601313]] [-0.9401384]\n"
          ]
        }
      ]
    }
  ]
}
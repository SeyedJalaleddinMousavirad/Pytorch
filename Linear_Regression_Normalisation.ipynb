{
  "nbformat": 4,
  "nbformat_minor": 0,
  "metadata": {
    "colab": {
      "provenance": [],
      "authorship_tag": "ABX9TyN/vhQ6fL+9+BbNscN9m25l",
      "include_colab_link": true
    },
    "kernelspec": {
      "name": "python3",
      "display_name": "Python 3"
    },
    "language_info": {
      "name": "python"
    }
  },
  "cells": [
    {
      "cell_type": "markdown",
      "metadata": {
        "id": "view-in-github",
        "colab_type": "text"
      },
      "source": [
        "<a href=\"https://colab.research.google.com/github/SeyedJalaleddinMousavirad/Pytorch/blob/main/Linear_Regression_Normalisation.ipynb\" target=\"_parent\"><img src=\"https://colab.research.google.com/assets/colab-badge.svg\" alt=\"Open In Colab\"/></a>"
      ]
    },
    {
      "cell_type": "code",
      "execution_count": 2,
      "metadata": {
        "id": "FXd8GZddbBJO"
      },
      "outputs": [],
      "source": [
        "import torch\n",
        "import torch.nn as nn\n",
        "import pandas as pd\n",
        "import numpy as np\n",
        "import matplotlib.pyplot as plt"
      ]
    },
    {
      "cell_type": "code",
      "source": [
        "from google.colab import files\n",
        "uploaded = files.upload()"
      ],
      "metadata": {
        "colab": {
          "base_uri": "https://localhost:8080/",
          "height": 73
        },
        "id": "RvbTGArpdtZd",
        "outputId": "801fad13-7ca0-45c7-da4e-44612a5c4180"
      },
      "execution_count": 10,
      "outputs": [
        {
          "output_type": "display_data",
          "data": {
            "text/plain": [
              "<IPython.core.display.HTML object>"
            ],
            "text/html": [
              "\n",
              "     <input type=\"file\" id=\"files-a79a2b36-45e6-4445-8435-47be50ee55c2\" name=\"files[]\" multiple disabled\n",
              "        style=\"border:none\" />\n",
              "     <output id=\"result-a79a2b36-45e6-4445-8435-47be50ee55c2\">\n",
              "      Upload widget is only available when the cell has been executed in the\n",
              "      current browser session. Please rerun this cell to enable.\n",
              "      </output>\n",
              "      <script>// Copyright 2017 Google LLC\n",
              "//\n",
              "// Licensed under the Apache License, Version 2.0 (the \"License\");\n",
              "// you may not use this file except in compliance with the License.\n",
              "// You may obtain a copy of the License at\n",
              "//\n",
              "//      http://www.apache.org/licenses/LICENSE-2.0\n",
              "//\n",
              "// Unless required by applicable law or agreed to in writing, software\n",
              "// distributed under the License is distributed on an \"AS IS\" BASIS,\n",
              "// WITHOUT WARRANTIES OR CONDITIONS OF ANY KIND, either express or implied.\n",
              "// See the License for the specific language governing permissions and\n",
              "// limitations under the License.\n",
              "\n",
              "/**\n",
              " * @fileoverview Helpers for google.colab Python module.\n",
              " */\n",
              "(function(scope) {\n",
              "function span(text, styleAttributes = {}) {\n",
              "  const element = document.createElement('span');\n",
              "  element.textContent = text;\n",
              "  for (const key of Object.keys(styleAttributes)) {\n",
              "    element.style[key] = styleAttributes[key];\n",
              "  }\n",
              "  return element;\n",
              "}\n",
              "\n",
              "// Max number of bytes which will be uploaded at a time.\n",
              "const MAX_PAYLOAD_SIZE = 100 * 1024;\n",
              "\n",
              "function _uploadFiles(inputId, outputId) {\n",
              "  const steps = uploadFilesStep(inputId, outputId);\n",
              "  const outputElement = document.getElementById(outputId);\n",
              "  // Cache steps on the outputElement to make it available for the next call\n",
              "  // to uploadFilesContinue from Python.\n",
              "  outputElement.steps = steps;\n",
              "\n",
              "  return _uploadFilesContinue(outputId);\n",
              "}\n",
              "\n",
              "// This is roughly an async generator (not supported in the browser yet),\n",
              "// where there are multiple asynchronous steps and the Python side is going\n",
              "// to poll for completion of each step.\n",
              "// This uses a Promise to block the python side on completion of each step,\n",
              "// then passes the result of the previous step as the input to the next step.\n",
              "function _uploadFilesContinue(outputId) {\n",
              "  const outputElement = document.getElementById(outputId);\n",
              "  const steps = outputElement.steps;\n",
              "\n",
              "  const next = steps.next(outputElement.lastPromiseValue);\n",
              "  return Promise.resolve(next.value.promise).then((value) => {\n",
              "    // Cache the last promise value to make it available to the next\n",
              "    // step of the generator.\n",
              "    outputElement.lastPromiseValue = value;\n",
              "    return next.value.response;\n",
              "  });\n",
              "}\n",
              "\n",
              "/**\n",
              " * Generator function which is called between each async step of the upload\n",
              " * process.\n",
              " * @param {string} inputId Element ID of the input file picker element.\n",
              " * @param {string} outputId Element ID of the output display.\n",
              " * @return {!Iterable<!Object>} Iterable of next steps.\n",
              " */\n",
              "function* uploadFilesStep(inputId, outputId) {\n",
              "  const inputElement = document.getElementById(inputId);\n",
              "  inputElement.disabled = false;\n",
              "\n",
              "  const outputElement = document.getElementById(outputId);\n",
              "  outputElement.innerHTML = '';\n",
              "\n",
              "  const pickedPromise = new Promise((resolve) => {\n",
              "    inputElement.addEventListener('change', (e) => {\n",
              "      resolve(e.target.files);\n",
              "    });\n",
              "  });\n",
              "\n",
              "  const cancel = document.createElement('button');\n",
              "  inputElement.parentElement.appendChild(cancel);\n",
              "  cancel.textContent = 'Cancel upload';\n",
              "  const cancelPromise = new Promise((resolve) => {\n",
              "    cancel.onclick = () => {\n",
              "      resolve(null);\n",
              "    };\n",
              "  });\n",
              "\n",
              "  // Wait for the user to pick the files.\n",
              "  const files = yield {\n",
              "    promise: Promise.race([pickedPromise, cancelPromise]),\n",
              "    response: {\n",
              "      action: 'starting',\n",
              "    }\n",
              "  };\n",
              "\n",
              "  cancel.remove();\n",
              "\n",
              "  // Disable the input element since further picks are not allowed.\n",
              "  inputElement.disabled = true;\n",
              "\n",
              "  if (!files) {\n",
              "    return {\n",
              "      response: {\n",
              "        action: 'complete',\n",
              "      }\n",
              "    };\n",
              "  }\n",
              "\n",
              "  for (const file of files) {\n",
              "    const li = document.createElement('li');\n",
              "    li.append(span(file.name, {fontWeight: 'bold'}));\n",
              "    li.append(span(\n",
              "        `(${file.type || 'n/a'}) - ${file.size} bytes, ` +\n",
              "        `last modified: ${\n",
              "            file.lastModifiedDate ? file.lastModifiedDate.toLocaleDateString() :\n",
              "                                    'n/a'} - `));\n",
              "    const percent = span('0% done');\n",
              "    li.appendChild(percent);\n",
              "\n",
              "    outputElement.appendChild(li);\n",
              "\n",
              "    const fileDataPromise = new Promise((resolve) => {\n",
              "      const reader = new FileReader();\n",
              "      reader.onload = (e) => {\n",
              "        resolve(e.target.result);\n",
              "      };\n",
              "      reader.readAsArrayBuffer(file);\n",
              "    });\n",
              "    // Wait for the data to be ready.\n",
              "    let fileData = yield {\n",
              "      promise: fileDataPromise,\n",
              "      response: {\n",
              "        action: 'continue',\n",
              "      }\n",
              "    };\n",
              "\n",
              "    // Use a chunked sending to avoid message size limits. See b/62115660.\n",
              "    let position = 0;\n",
              "    do {\n",
              "      const length = Math.min(fileData.byteLength - position, MAX_PAYLOAD_SIZE);\n",
              "      const chunk = new Uint8Array(fileData, position, length);\n",
              "      position += length;\n",
              "\n",
              "      const base64 = btoa(String.fromCharCode.apply(null, chunk));\n",
              "      yield {\n",
              "        response: {\n",
              "          action: 'append',\n",
              "          file: file.name,\n",
              "          data: base64,\n",
              "        },\n",
              "      };\n",
              "\n",
              "      let percentDone = fileData.byteLength === 0 ?\n",
              "          100 :\n",
              "          Math.round((position / fileData.byteLength) * 100);\n",
              "      percent.textContent = `${percentDone}% done`;\n",
              "\n",
              "    } while (position < fileData.byteLength);\n",
              "  }\n",
              "\n",
              "  // All done.\n",
              "  yield {\n",
              "    response: {\n",
              "      action: 'complete',\n",
              "    }\n",
              "  };\n",
              "}\n",
              "\n",
              "scope.google = scope.google || {};\n",
              "scope.google.colab = scope.google.colab || {};\n",
              "scope.google.colab._files = {\n",
              "  _uploadFiles,\n",
              "  _uploadFilesContinue,\n",
              "};\n",
              "})(self);\n",
              "</script> "
            ]
          },
          "metadata": {}
        },
        {
          "output_type": "stream",
          "name": "stdout",
          "text": [
            "Saving moore.csv to moore (2).csv\n"
          ]
        }
      ]
    },
    {
      "cell_type": "code",
      "source": [
        "#Load data\n",
        "data = pd.read_csv('moore (2).csv',header=None).values"
      ],
      "metadata": {
        "id": "v-tEbHYocNpi"
      },
      "execution_count": 11,
      "outputs": []
    },
    {
      "cell_type": "code",
      "source": [
        "X=data[:,0].reshape(-1,1)\n",
        "Y=data[:,1].reshape(-1,1)"
      ],
      "metadata": {
        "id": "7kTN8t1UfhJe"
      },
      "execution_count": 72,
      "outputs": []
    },
    {
      "cell_type": "code",
      "source": [
        "plt.plot(X,Y,'*')"
      ],
      "metadata": {
        "colab": {
          "base_uri": "https://localhost:8080/",
          "height": 294
        },
        "id": "gQEj3-jWf5u4",
        "outputId": "0f3ea780-812a-4b15-ba30-0131e99c73d5"
      },
      "execution_count": 52,
      "outputs": [
        {
          "output_type": "execute_result",
          "data": {
            "text/plain": [
              "[<matplotlib.lines.Line2D at 0x7f4ed68bd790>]"
            ]
          },
          "metadata": {},
          "execution_count": 52
        },
        {
          "output_type": "display_data",
          "data": {
            "text/plain": [
              "<Figure size 432x288 with 1 Axes>"
            ],
            "image/png": "[encoded data removed]"
          },
          "metadata": {
            "needs_background": "light"
          }
        }
      ]
    },
    {
      "cell_type": "code",
      "source": [
        "#Calculate the log to convert it into the linear points\n",
        "Y=np.log(Y)\n",
        "plt.scatter(X,Y)"
      ],
      "metadata": {
        "colab": {
          "base_uri": "https://localhost:8080/",
          "height": 283
        },
        "id": "IyQwJuLGFYFb",
        "outputId": "7d739ac2-9183-473f-a881-794027111b30"
      },
      "execution_count": 73,
      "outputs": [
        {
          "output_type": "execute_result",
          "data": {
            "text/plain": [
              "<matplotlib.collections.PathCollection at 0x7f4ed65ef950>"
            ]
          },
          "metadata": {},
          "execution_count": 73
        },
        {
          "output_type": "display_data",
          "data": {
            "text/plain": [
              "<Figure size 432x288 with 1 Axes>"
            ],
            "image/png": "[encoded data removed]"
          },
          "metadata": {
            "needs_background": "light"
          }
        }
      ]
    },
    {
      "cell_type": "code",
      "source": [
        "#Scale and center both the x and y axes\n",
        "mx=X.mean()\n",
        "sx=X.std()\n",
        "my=Y.mean()\n",
        "sy=Y.std()\n",
        "X=(X-mx)/sx\n",
        "Y=(Y-my)/sy"
      ],
      "metadata": {
        "id": "Pah_2-WxIjWY"
      },
      "execution_count": 74,
      "outputs": []
    },
    {
      "cell_type": "code",
      "source": [
        "plt.scatter(X,Y)"
      ],
      "metadata": {
        "colab": {
          "base_uri": "https://localhost:8080/",
          "height": 283
        },
        "id": "C0ZPqTl6KfGi",
        "outputId": "ced3491a-f68c-41bc-e60f-ea72a62aad8a"
      },
      "execution_count": 75,
      "outputs": [
        {
          "output_type": "execute_result",
          "data": {
            "text/plain": [
              "<matplotlib.collections.PathCollection at 0x7f4ed6567950>"
            ]
          },
          "metadata": {},
          "execution_count": 75
        },
        {
          "output_type": "display_data",
          "data": {
            "text/plain": [
              "<Figure size 432x288 with 1 Axes>"
            ],
            "image/png": "[encoded data removed]"
          },
          "metadata": {
            "needs_background": "light"
          }
        }
      ]
    },
    {
      "cell_type": "code",
      "source": [
        "# we want to conevrt it to float32\n",
        "X=X.astype(np.float32)\n",
        "Y=Y.astype(np.float32)"
      ],
      "metadata": {
        "id": "RsizfCD6LPQc"
      },
      "execution_count": 76,
      "outputs": []
    },
    {
      "cell_type": "code",
      "source": [
        "X.dtype"
      ],
      "metadata": {
        "colab": {
          "base_uri": "https://localhost:8080/"
        },
        "id": "dpeW9JUCL0S9",
        "outputId": "44ebda5f-aa0a-4ffd-c79e-c595470c0178"
      },
      "execution_count": 77,
      "outputs": [
        {
          "output_type": "execute_result",
          "data": {
            "text/plain": [
              "dtype('float32')"
            ]
          },
          "metadata": {},
          "execution_count": 77
        }
      ]
    },
    {
      "cell_type": "code",
      "source": [
        "type(X)"
      ],
      "metadata": {
        "colab": {
          "base_uri": "https://localhost:8080/"
        },
        "id": "N3oWYTz3O-t1",
        "outputId": "8344fbaa-2431-404c-9bd3-710850a340e9"
      },
      "execution_count": 78,
      "outputs": [
        {
          "output_type": "execute_result",
          "data": {
            "text/plain": [
              "numpy.ndarray"
            ]
          },
          "metadata": {},
          "execution_count": 78
        }
      ]
    },
    {
      "cell_type": "code",
      "source": [
        "#Create the linear regression model\n",
        "model = nn.Linear(1,1)"
      ],
      "metadata": {
        "id": "CfBGx94vMANi"
      },
      "execution_count": 79,
      "outputs": []
    },
    {
      "cell_type": "code",
      "source": [
        "#Loss and Optimiser\n",
        "criterion = nn.MSELoss()\n",
        "optimizer = torch.optim.SGD (model.parameters(), lr=0.01, momentum = 0.7)"
      ],
      "metadata": {
        "id": "YDfKz6O7MJJN"
      },
      "execution_count": 80,
      "outputs": []
    },
    {
      "cell_type": "code",
      "source": [
        "#Now, the X and Y are float32! We should convert it to torch tensor\n",
        "inputs = torch.from_numpy(X)\n",
        "targets = torch.from_numpy(Y)"
      ],
      "metadata": {
        "id": "WLDvW7iwM22H"
      },
      "execution_count": 81,
      "outputs": []
    },
    {
      "cell_type": "code",
      "source": [
        "type(inputs)\n"
      ],
      "metadata": {
        "colab": {
          "base_uri": "https://localhost:8080/"
        },
        "id": "EHK_2X-vO6Xp",
        "outputId": "301587f6-15db-41a4-f051-4203487d5f65"
      },
      "execution_count": 34,
      "outputs": [
        {
          "output_type": "execute_result",
          "data": {
            "text/plain": [
              "torch.Tensor"
            ]
          },
          "metadata": {},
          "execution_count": 34
        }
      ]
    },
    {
      "cell_type": "code",
      "source": [
        "inputs.dtype"
      ],
      "metadata": {
        "colab": {
          "base_uri": "https://localhost:8080/"
        },
        "id": "9B7j2y-DPHc5",
        "outputId": "efce5b70-8105-4dd8-a37e-518c1566e9e0"
      },
      "execution_count": 35,
      "outputs": [
        {
          "output_type": "execute_result",
          "data": {
            "text/plain": [
              "torch.float32"
            ]
          },
          "metadata": {},
          "execution_count": 35
        }
      ]
    },
    {
      "cell_type": "code",
      "source": [
        "#Train the model\n",
        "n_epochs=100\n",
        "losses = []\n",
        "for it in range(n_epochs):\n",
        "  optimizer.zero_grad()\n",
        "\n",
        "  #Forward pass\n",
        "  outputs = model (inputs)\n",
        "  loss = criterion (outputs, targets)\n",
        "\n",
        "  #Record loss\n",
        "  losses.append(loss.item())\n",
        "  #Backward pass\n",
        "  loss.backward()\n",
        "  optimizer.step()\n",
        "\n",
        "  print(f' Epoch {it+1} / {n_epochs}, Loss: {loss.item():.4f}')\n"
      ],
      "metadata": {
        "colab": {
          "base_uri": "https://localhost:8080/"
        },
        "id": "zAUoyD8yPJoO",
        "outputId": "30a781b3-c781-4495-eb2b-690709b638a7"
      },
      "execution_count": 82,
      "outputs": [
        {
          "output_type": "stream",
          "name": "stdout",
          "text": [
            " Epoch 1 / 100, Loss: 0.6417\n",
            " Epoch 2 / 100, Loss: 0.6178\n",
            " Epoch 3 / 100, Loss: 0.5788\n",
            " Epoch 4 / 100, Loss: 0.5314\n",
            " Epoch 5 / 100, Loss: 0.4807\n",
            " Epoch 6 / 100, Loss: 0.4300\n",
            " Epoch 7 / 100, Loss: 0.3815\n",
            " Epoch 8 / 100, Loss: 0.3365\n",
            " Epoch 9 / 100, Loss: 0.2958\n",
            " Epoch 10 / 100, Loss: 0.2594\n",
            " Epoch 11 / 100, Loss: 0.2273\n",
            " Epoch 12 / 100, Loss: 0.1993\n",
            " Epoch 13 / 100, Loss: 0.1750\n",
            " Epoch 14 / 100, Loss: 0.1541\n",
            " Epoch 15 / 100, Loss: 0.1362\n",
            " Epoch 16 / 100, Loss: 0.1210\n",
            " Epoch 17 / 100, Loss: 0.1080\n",
            " Epoch 18 / 100, Loss: 0.0970\n",
            " Epoch 19 / 100, Loss: 0.0877\n",
            " Epoch 20 / 100, Loss: 0.0798\n",
            " Epoch 21 / 100, Loss: 0.0732\n",
            " Epoch 22 / 100, Loss: 0.0676\n",
            " Epoch 23 / 100, Loss: 0.0629\n",
            " Epoch 24 / 100, Loss: 0.0590\n",
            " Epoch 25 / 100, Loss: 0.0557\n",
            " Epoch 26 / 100, Loss: 0.0529\n",
            " Epoch 27 / 100, Loss: 0.0505\n",
            " Epoch 28 / 100, Loss: 0.0486\n",
            " Epoch 29 / 100, Loss: 0.0469\n",
            " Epoch 30 / 100, Loss: 0.0456\n",
            " Epoch 31 / 100, Loss: 0.0444\n",
            " Epoch 32 / 100, Loss: 0.0435\n",
            " Epoch 33 / 100, Loss: 0.0426\n",
            " Epoch 34 / 100, Loss: 0.0420\n",
            " Epoch 35 / 100, Loss: 0.0414\n",
            " Epoch 36 / 100, Loss: 0.0409\n",
            " Epoch 37 / 100, Loss: 0.0405\n",
            " Epoch 38 / 100, Loss: 0.0402\n",
            " Epoch 39 / 100, Loss: 0.0399\n",
            " Epoch 40 / 100, Loss: 0.0397\n",
            " Epoch 41 / 100, Loss: 0.0395\n",
            " Epoch 42 / 100, Loss: 0.0393\n",
            " Epoch 43 / 100, Loss: 0.0392\n",
            " Epoch 44 / 100, Loss: 0.0391\n",
            " Epoch 45 / 100, Loss: 0.0390\n",
            " Epoch 46 / 100, Loss: 0.0389\n",
            " Epoch 47 / 100, Loss: 0.0388\n",
            " Epoch 48 / 100, Loss: 0.0388\n",
            " Epoch 49 / 100, Loss: 0.0387\n",
            " Epoch 50 / 100, Loss: 0.0387\n",
            " Epoch 51 / 100, Loss: 0.0386\n",
            " Epoch 52 / 100, Loss: 0.0386\n",
            " Epoch 53 / 100, Loss: 0.0386\n",
            " Epoch 54 / 100, Loss: 0.0386\n",
            " Epoch 55 / 100, Loss: 0.0386\n",
            " Epoch 56 / 100, Loss: 0.0385\n",
            " Epoch 57 / 100, Loss: 0.0385\n",
            " Epoch 58 / 100, Loss: 0.0385\n",
            " Epoch 59 / 100, Loss: 0.0385\n",
            " Epoch 60 / 100, Loss: 0.0385\n",
            " Epoch 61 / 100, Loss: 0.0385\n",
            " Epoch 62 / 100, Loss: 0.0385\n",
            " Epoch 63 / 100, Loss: 0.0385\n",
            " Epoch 64 / 100, Loss: 0.0385\n",
            " Epoch 65 / 100, Loss: 0.0385\n",
            " Epoch 66 / 100, Loss: 0.0385\n",
            " Epoch 67 / 100, Loss: 0.0385\n",
            " Epoch 68 / 100, Loss: 0.0385\n",
            " Epoch 69 / 100, Loss: 0.0385\n",
            " Epoch 70 / 100, Loss: 0.0385\n",
            " Epoch 71 / 100, Loss: 0.0385\n",
            " Epoch 72 / 100, Loss: 0.0385\n",
            " Epoch 73 / 100, Loss: 0.0385\n",
            " Epoch 74 / 100, Loss: 0.0385\n",
            " Epoch 75 / 100, Loss: 0.0385\n",
            " Epoch 76 / 100, Loss: 0.0385\n",
            " Epoch 77 / 100, Loss: 0.0385\n",
            " Epoch 78 / 100, Loss: 0.0385\n",
            " Epoch 79 / 100, Loss: 0.0385\n",
            " Epoch 80 / 100, Loss: 0.0385\n",
            " Epoch 81 / 100, Loss: 0.0385\n",
            " Epoch 82 / 100, Loss: 0.0385\n",
            " Epoch 83 / 100, Loss: 0.0385\n",
            " Epoch 84 / 100, Loss: 0.0385\n",
            " Epoch 85 / 100, Loss: 0.0385\n",
            " Epoch 86 / 100, Loss: 0.0385\n",
            " Epoch 87 / 100, Loss: 0.0385\n",
            " Epoch 88 / 100, Loss: 0.0385\n",
            " Epoch 89 / 100, Loss: 0.0385\n",
            " Epoch 90 / 100, Loss: 0.0385\n",
            " Epoch 91 / 100, Loss: 0.0385\n",
            " Epoch 92 / 100, Loss: 0.0385\n",
            " Epoch 93 / 100, Loss: 0.0385\n",
            " Epoch 94 / 100, Loss: 0.0385\n",
            " Epoch 95 / 100, Loss: 0.0385\n",
            " Epoch 96 / 100, Loss: 0.0385\n",
            " Epoch 97 / 100, Loss: 0.0385\n",
            " Epoch 98 / 100, Loss: 0.0385\n",
            " Epoch 99 / 100, Loss: 0.0385\n",
            " Epoch 100 / 100, Loss: 0.0385\n"
          ]
        }
      ]
    },
    {
      "cell_type": "code",
      "source": [
        "#Loss per iteration\n",
        "plt.plot(losses)"
      ],
      "metadata": {
        "colab": {
          "base_uri": "https://localhost:8080/",
          "height": 283
        },
        "id": "jGexxFtlS0MM",
        "outputId": "20f85e9f-b1bc-463e-dc3a-84799ee70ef8"
      },
      "execution_count": 83,
      "outputs": [
        {
          "output_type": "execute_result",
          "data": {
            "text/plain": [
              "[<matplotlib.lines.Line2D at 0x7f4ed64e7650>]"
            ]
          },
          "metadata": {},
          "execution_count": 83
        },
        {
          "output_type": "display_data",
          "data": {
            "text/plain": [
              "<Figure size 432x288 with 1 Axes>"
            ],
            "image/png": "[encoded data removed]"
          },
          "metadata": {
            "needs_background": "light"
          }
        }
      ]
    },
    {
      "cell_type": "code",
      "source": [
        "#Plot the graph\n",
        "predicted = model (torch.from_numpy(X)).detach().numpy()\n",
        "plt.plot(X,Y, 'ro', label='Original Data')\n",
        "plt.plot(X,predicted,label='Predicted Curve')\n",
        "plt.legend()\n",
        "plt.show()"
      ],
      "metadata": {
        "colab": {
          "base_uri": "https://localhost:8080/",
          "height": 265
        },
        "id": "sl3rZpUkS_Im",
        "outputId": "9d08a8c3-0123-467b-8998-b1a1267eb886"
      },
      "execution_count": 84,
      "outputs": [
        {
          "output_type": "display_data",
          "data": {
            "text/plain": [
              "<Figure size 432x288 with 1 Axes>"
            ],
            "image/png": "[encoded data removed]"
          },
          "metadata": {
            "needs_background": "light"
          }
        }
      ]
    },
    {
      "cell_type": "code",
      "source": [
        "print(predicted)"
      ],
      "metadata": {
        "colab": {
          "base_uri": "https://localhost:8080/"
        },
        "id": "d0BuCXdWUDEn",
        "outputId": "c37d8b24-3637-46a7-b177-a63a6b750b5a"
      },
      "execution_count": 71,
      "outputs": [
        {
          "output_type": "stream",
          "name": "stdout",
          "text": [
            "[[-1.3144037 ]\n",
            " [-1.2722665 ]\n",
            " [-1.2301292 ]\n",
            " [-1.2301292 ]\n",
            " [-1.1879922 ]\n",
            " [-1.1879922 ]\n",
            " [-1.1879922 ]\n",
            " [-1.145855  ]\n",
            " [-1.1037178 ]\n",
            " [-1.1037178 ]\n",
            " [-1.1037178 ]\n",
            " [-1.0194434 ]\n",
            " [-1.0194434 ]\n",
            " [-0.9773063 ]\n",
            " [-0.9773063 ]\n",
            " [-0.9773063 ]\n",
            " [-0.89303195]\n",
            " [-0.8508948 ]\n",
            " [-0.8508948 ]\n",
            " [-0.8087576 ]\n",
            " [-0.7666204 ]\n",
            " [-0.7666204 ]\n",
            " [-0.72448325]\n",
            " [-0.72448325]\n",
            " [-0.72448325]\n",
            " [-0.68234605]\n",
            " [-0.68234605]\n",
            " [-0.68234605]\n",
            " [-0.6402089 ]\n",
            " [-0.6402089 ]\n",
            " [-0.6402089 ]\n",
            " [-0.6402089 ]\n",
            " [-0.5980717 ]\n",
            " [-0.5980717 ]\n",
            " [-0.55593455]\n",
            " [-0.55593455]\n",
            " [-0.55593455]\n",
            " [-0.55593455]\n",
            " [-0.5137974 ]\n",
            " [-0.4716602 ]\n",
            " [-0.4716602 ]\n",
            " [-0.429523  ]\n",
            " [-0.429523  ]\n",
            " [-0.38738585]\n",
            " [-0.38738585]\n",
            " [-0.34524867]\n",
            " [-0.34524867]\n",
            " [-0.3031115 ]\n",
            " [-0.13456278]\n",
            " [-0.3031115 ]\n",
            " [-0.26097432]\n",
            " [-0.21883713]\n",
            " [-0.21883713]\n",
            " [-0.21883713]\n",
            " [-0.17669995]\n",
            " [-0.13456278]\n",
            " [-0.13456278]\n",
            " [-0.0924256 ]\n",
            " [-0.0924256 ]\n",
            " [-0.13456278]\n",
            " [-0.13456278]\n",
            " [-0.13456278]\n",
            " [-0.0924256 ]\n",
            " [-0.05028842]\n",
            " [-0.05028842]\n",
            " [-0.00815125]\n",
            " [ 0.0761231 ]\n",
            " [ 0.0761231 ]\n",
            " [ 0.11826027]\n",
            " [ 0.16039746]\n",
            " [ 0.11826027]\n",
            " [ 0.16039746]\n",
            " [ 0.20253463]\n",
            " [ 0.24467182]\n",
            " [ 0.03398593]\n",
            " [ 0.03398593]\n",
            " [-0.00815125]\n",
            " [ 0.11826027]\n",
            " [ 0.11826027]\n",
            " [ 0.16039746]\n",
            " [ 0.20253463]\n",
            " [ 0.03398593]\n",
            " [ 0.24467182]\n",
            " [ 0.28680897]\n",
            " [ 0.37108332]\n",
            " [ 0.4132205 ]\n",
            " [ 0.20253463]\n",
            " [ 0.20253463]\n",
            " [ 0.24467182]\n",
            " [ 0.0761231 ]\n",
            " [ 0.20253463]\n",
            " [ 0.24467182]\n",
            " [ 0.24467182]\n",
            " [ 0.20253463]\n",
            " [ 0.28680897]\n",
            " [ 0.32894617]\n",
            " [ 0.4132205 ]\n",
            " [ 0.45535767]\n",
            " [ 0.37108332]\n",
            " [ 0.32894617]\n",
            " [ 0.32894617]\n",
            " [ 0.4132205 ]\n",
            " [ 0.4132205 ]\n",
            " [ 0.32894617]\n",
            " [ 0.4132205 ]\n",
            " [ 0.49749485]\n",
            " [ 0.16039746]\n",
            " [ 0.539632  ]\n",
            " [ 0.45535767]\n",
            " [ 0.539632  ]\n",
            " [ 0.24467182]\n",
            " [ 0.32894617]\n",
            " [ 0.49749485]\n",
            " [ 0.539632  ]\n",
            " [ 0.539632  ]\n",
            " [ 0.4132205 ]\n",
            " [ 0.37108332]\n",
            " [ 0.32894617]\n",
            " [ 0.49749485]\n",
            " [ 0.37108332]\n",
            " [ 0.4132205 ]\n",
            " [ 0.49749485]\n",
            " [ 0.58176917]\n",
            " [ 0.6239064 ]\n",
            " [ 0.6239064 ]\n",
            " [ 0.6660435 ]\n",
            " [ 0.4132205 ]\n",
            " [ 0.58176917]\n",
            " [ 0.58176917]\n",
            " [ 0.539632  ]\n",
            " [ 0.45535767]\n",
            " [ 0.6239064 ]\n",
            " [ 0.49749485]\n",
            " [ 0.6239064 ]\n",
            " [ 0.6239064 ]\n",
            " [ 0.6239064 ]\n",
            " [ 0.4132205 ]\n",
            " [ 0.45535767]\n",
            " [ 0.49749485]\n",
            " [ 0.6239064 ]\n",
            " [ 0.6660435 ]\n",
            " [ 0.58176917]\n",
            " [ 0.6660435 ]\n",
            " [ 0.6239064 ]\n",
            " [ 0.6660435 ]\n",
            " [ 0.6239064 ]\n",
            " [ 0.539632  ]\n",
            " [ 0.6239064 ]\n",
            " [ 0.58176917]\n",
            " [ 0.6239064 ]\n",
            " [ 0.58176917]\n",
            " [ 0.6239064 ]\n",
            " [ 0.6239064 ]\n",
            " [ 0.539632  ]\n",
            " [ 0.6239064 ]\n",
            " [ 0.6660435 ]\n",
            " [ 0.6239064 ]\n",
            " [ 0.6239064 ]\n",
            " [ 0.6239064 ]\n",
            " [ 0.6660435 ]\n",
            " [ 0.6660435 ]\n",
            " [ 0.6660435 ]]\n"
          ]
        }
      ]
    },
    {
      "cell_type": "code",
      "source": [
        "#get w\n",
        "w=model.weight.data.numpy()\n",
        "print(w)"
      ],
      "metadata": {
        "colab": {
          "base_uri": "https://localhost:8080/"
        },
        "id": "qDK3fjkqWJ7D",
        "outputId": "d95e57b6-6ee0-45ba-a6ed-4dd926017136"
      },
      "execution_count": 85,
      "outputs": [
        {
          "output_type": "stream",
          "name": "stdout",
          "text": [
            "[[0.98054945]]\n"
          ]
        }
      ]
    },
    {
      "cell_type": "code",
      "source": [
        "#Transforming Back to the original data\n",
        "a=w[0,0]*sy/sx\n",
        "print(a)"
      ],
      "metadata": {
        "colab": {
          "base_uri": "https://localhost:8080/"
        },
        "id": "591gBj4XXySM",
        "outputId": "a8f44db2-25eb-4521-f4b7-0a33fc694a18"
      },
      "execution_count": 86,
      "outputs": [
        {
          "output_type": "stream",
          "name": "stdout",
          "text": [
            "0.34167493698116397\n"
          ]
        }
      ]
    },
    {
      "cell_type": "markdown",
      "source": [
        "# New section"
      ],
      "metadata": {
        "id": "mQ70A3Gbb9ea"
      }
    }
  ]
}